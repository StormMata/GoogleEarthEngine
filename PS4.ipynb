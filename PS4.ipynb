{
  "nbformat": 4,
  "nbformat_minor": 0,
  "metadata": {
    "colab": {
      "name": "Untitled1.ipynb",
      "provenance": [],
      "authorship_tag": "ABX9TyOBKJRQbxJ+OS/Wda4bJYY4",
      "include_colab_link": true
    },
    "kernelspec": {
      "name": "python3",
      "display_name": "Python 3"
    },
    "language_info": {
      "name": "python"
    }
  },
  "cells": [
    {
      "cell_type": "markdown",
      "metadata": {
        "id": "view-in-github",
        "colab_type": "text"
      },
      "source": [
        "<a href=\"https://colab.research.google.com/github/StormMata/GoogleEarthEngine/blob/master/PS4.ipynb\" target=\"_parent\"><img src=\"https://colab.research.google.com/assets/colab-badge.svg\" alt=\"Open In Colab\"/></a>"
      ]
    },
    {
      "cell_type": "code",
      "execution_count": 4,
      "metadata": {
        "colab": {
          "base_uri": "https://localhost:8080/"
        },
        "id": "XH7z5kb7s0cf",
        "outputId": "0785aa55-765f-41a7-a091-fe4afd8f3763"
      },
      "outputs": [
        {
          "output_type": "stream",
          "name": "stdout",
          "text": [
            "To authorize access needed by Earth Engine, open the following URL in a web browser and follow the instructions. If the web browser does not start automatically, please manually browse the URL below.\n",
            "\n",
            "    https://accounts.google.com/o/oauth2/auth?client_id=517222506229-vsmmajv00ul0bs7p89v5m89qs8eb9359.apps.googleusercontent.com&scope=https%3A%2F%2Fwww.googleapis.com%2Fauth%2Fearthengine+https%3A%2F%2Fwww.googleapis.com%2Fauth%2Fdevstorage.full_control&redirect_uri=urn%3Aietf%3Awg%3Aoauth%3A2.0%3Aoob&response_type=code&code_challenge=v0kZb4lkx_DsI1ZLjH31OswQSrIfMnNZCXB0z14CXYI&code_challenge_method=S256\n",
            "\n",
            "The authorization workflow will generate a code, which you should paste in the box below. \n",
            "Enter verification code: 4/1AX4XfWhMFnt6P8JV9R8w7pFHuxSympmOtJj8GW2Lr6cAQscIzXYkLHDgNRs\n",
            "\n",
            "Successfully saved authorization token.\n"
          ]
        }
      ],
      "source": [
        "import ee\n",
        "from IPython.display import Image\n",
        "\n",
        "# Trigger the authentication flow.\n",
        "ee.Authenticate()\n",
        "\n",
        "# Initialize the library.\n",
        "ee.Initialize()"
      ]
    },
    {
      "cell_type": "code",
      "source": [
        "# Leaf Area Index\n",
        "EatYourVeggies = ee.ImageCollection(\"MODIS/006/MCD15A3H\")\n",
        "\n",
        "StartDate = '2015-07-04'\n",
        "StopDate  = '2019-03-02'\n",
        "\n",
        "# Coordinates for Oklahoma City, OK and outlying suburbs\n",
        "lat = 35.465447\n",
        "lon = -97.517961\n",
        "\n",
        "# Center on Myriad Botanical Gardens, downtown OKC\n",
        "roi = ee.Geometry.Point(lon, lat).buffer(5e4)\n",
        "\n",
        "# Filter by dates\n",
        "EatYourVeggies = EatYourVeggies.select('Fpar').filterDate(StartDate, StopDate)\n",
        "\n",
        "# Average Data\n",
        "VeggieTales = EatYourVeggies.mean()\n",
        "\n",
        "# Create map\n",
        "url = VeggieTales.getThumbUrl({\n",
        "    'min':        0.0,\n",
        "    'max':        100.0,\n",
        "    'dimensions': 720,\n",
        "    'region':     roi,\n",
        "    'palette': ['#c8c8c8','#bec1bd','#b4bab2','#aab2a7','#a0ab9c','#96a491',\n",
        "                '#8c9d86','#83967c','#798f71','#6f8867','#66815d','#5c7a53',\n",
        "                '#527449','#496d3f','#3f6636','#355f2c','#2b5922','#205218',\n",
        "                '#144c0e','#034502']})\n",
        "\n",
        "# Print URL for image\n",
        "print(url)\n",
        "\n",
        "# Display thumbnail\n",
        "print('\\nPlease wait while the thumbnail loads, it may take a moment...')\n",
        "Image(url=url)"
      ],
      "metadata": {
        "colab": {
          "base_uri": "https://localhost:8080/",
          "height": 683
        },
        "id": "CYbssbGGs4b8",
        "outputId": "29687afa-c2ce-4f51-e39c-0002c3f1ac0d"
      },
      "execution_count": 5,
      "outputs": [
        {
          "output_type": "stream",
          "name": "stdout",
          "text": [
            "https://earthengine.googleapis.com/v1alpha/projects/earthengine-legacy/thumbnails/c8a26e8f6167929156c311b889f66e2b-d05fea1131c0b23e1062556dbcc90865:getPixels\n",
            "\n",
            "Please wait while the thumbnail loads, it may take a moment...\n"
          ]
        },
        {
          "output_type": "execute_result",
          "data": {
            "text/html": [
              "<img src=\"https://earthengine.googleapis.com/v1alpha/projects/earthengine-legacy/thumbnails/c8a26e8f6167929156c311b889f66e2b-d05fea1131c0b23e1062556dbcc90865:getPixels\"/>"
            ],
            "text/plain": [
              "<IPython.core.display.Image object>"
            ]
          },
          "metadata": {},
          "execution_count": 5
        }
      ]
    }
  ]
}