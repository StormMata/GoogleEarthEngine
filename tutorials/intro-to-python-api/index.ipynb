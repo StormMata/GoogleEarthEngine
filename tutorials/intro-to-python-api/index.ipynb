{
  "nbformat": 4,
  "nbformat_minor": 0,
  "metadata": {
    "colab": {
      "name": "An Intro to the Earth Engine Python API",
      "provenance": [],
      "collapsed_sections": []
    },
    "kernelspec": {
      "name": "python3",
      "display_name": "Python 3"
    }
  },
  "cells": [
    {
      "cell_type": "code",
      "metadata": {
        "id": "8kdsGkYJXXKc"
      },
      "source": [
        "#@title Copyright 2020 The Earth Engine Community Authors { display-mode: \"form\" }\n",
        "#\n",
        "# Licensed under the Apache License, Version 2.0 (the \"License\");\n",
        "# you may not use this file except in compliance with the License.\n",
        "# You may obtain a copy of the License at\n",
        "#\n",
        "# https://www.apache.org/licenses/LICENSE-2.0\n",
        "#\n",
        "# Unless required by applicable law or agreed to in writing, software\n",
        "# distributed under the License is distributed on an \"AS IS\" BASIS,\n",
        "# WITHOUT WARRANTIES OR CONDITIONS OF ANY KIND, either express or implied.\n",
        "# See the License for the specific language governing permissions and\n",
        "# limitations under the License."
      ],
      "execution_count": null,
      "outputs": []
    },
    {
      "cell_type": "markdown",
      "metadata": {
        "id": "l18M9_r5XmAQ"
      },
      "source": [
        "# An Intro to the Earth Engine Python API\n",
        "\n",
        "Author: guiattard\n",
        "\n",
        "Within the last decade, a large amount of geospatial data, such as satellite data (e.g. land surface temperature, vegetation) or the output of large scale, even global models (e.g. wind speed, groundwater recharge), have become freely available from multiple national agencies and universities (e.g. NASA, USGS, NOAA, and ESA). These geospatial data are used every day by scientists and engineers of all fields, to predict weather, prevent disasters, secure water supply, or study the consequences of climate change. When using these geospatial data, a few questions arise:\n",
        "\n",
        "- What data are available and where can it be found?\n",
        "- How can we access these data?\n",
        "- How can we manipulate these petabytes of data?\n",
        "\n",
        "In this tutorial, an introduction to the [Google Earth Engine Python API](https://developers.google.com/earth-engine/guides/python_install) is presented. After some setup and some exploration of the Earth Engine Data Catalog, we’ll see how to handle geospatial datasets with [pandas](https://pandas.pydata.org/) and make some plots with matplotlib.\n",
        "\n",
        "First, we’ll see how to get the timeseries of a variable for a region of interest. An application of this procedure will be done to extract land surface temperature in an urban and a rural area near the city of Lyon, France to illustrate the heat island effect. Secondly, we will detail procedures for static mapping and exporting results as a GeoTIFF.\n",
        "\n",
        "Finally, the folium library will be introduced to make interactive maps. In this last part, we’ll see how to include some GEE datasets as tile layers of a folium map."
      ]
    },
    {
      "cell_type": "markdown",
      "metadata": {
        "id": "ZYiYem8wLSTX"
      },
      "source": [
        "## Exploration of the Earth Engine Data Catalog\n",
        "\n",
        "Have you ever thought that getting a meteorological dataset could be as easy as finding the nearest pizzeria? To convince you, visit the [Earth Engine Data Catalog](https://developers.google.com/earth-engine/datasets/catalog) and explore datasets using the search bar or browsing by tag.\n",
        "\n",
        "Let's say that we need to know the elevation of a region, some soil properties (e.g. clay, sand, silt content) and some meteorological observations (e.g. temperature, precipitation, evapotranspiration). Well, inside the Earth Engine Catalog we find:\n",
        "\n",
        "- [SRTM global elevation](https://developers.google.com/earth-engine/datasets/catalog/USGS_SRTMGL1_003) with a resolution of 30 m,\n",
        "- [OpenLandMap datasets](https://developers.google.com/earth-engine/datasets/catalog/OpenLandMap_SOL_SOL_CLAY-WFRACTION_USDA-3A1A1A_M_v02) with soil properties at a resolution of 250 m (e.g. clay, sand, and silt content), and\n",
        "- [GRIDMET](https://developers.google.com/earth-engine/datasets/catalog/IDAHO_EPSCOR_GRIDMET) temperature, precipitation, and evapotranspiration, for example.\n",
        "\n",
        "Of course the resolution, frequency, spatial and temporal extent, as well as data source (e.g. satellite image, interpolated station data, or model output) vary from one dataset to another. Therefore, read the description carefully and make sure you know what kind of dataset you are selecting!\n"
      ]
    },
    {
      "cell_type": "markdown",
      "metadata": {
        "id": "U7i55vr_aKCB"
      },
      "source": [
        "## Run me first\n",
        "\n",
        "First of all, run the following cell to initialize the API. The output will contain instructions on how to grant this notebook access to Earth Engine using your account."
      ]
    },
    {
      "cell_type": "code",
      "metadata": {
        "id": "XeFsiSp2aDL6",
        "outputId": "2e3cbbe2-06f3-43f5-8866-db65a97ef4bd",
        "colab": {
          "base_uri": "https://localhost:8080/"
        }
      },
      "source": [
        "import ee\n",
        "\n",
        "# Trigger the authentication flow.\n",
        "ee.Authenticate()\n",
        "\n",
        "# Initialize the library.\n",
        "ee.Initialize()"
      ],
      "execution_count": 17,
      "outputs": [
        {
          "output_type": "stream",
          "name": "stdout",
          "text": [
            "To authorize access needed by Earth Engine, open the following URL in a web browser and follow the instructions. If the web browser does not start automatically, please manually browse the URL below.\n",
            "\n",
            "    https://accounts.google.com/o/oauth2/auth?client_id=517222506229-vsmmajv00ul0bs7p89v5m89qs8eb9359.apps.googleusercontent.com&scope=https%3A%2F%2Fwww.googleapis.com%2Fauth%2Fearthengine+https%3A%2F%2Fwww.googleapis.com%2Fauth%2Fdevstorage.full_control&redirect_uri=urn%3Aietf%3Awg%3Aoauth%3A2.0%3Aoob&response_type=code&code_challenge=pslUlatE7woMFtKXGu_7gqUSzCEScJeh8E_6XgSuVH0&code_challenge_method=S256\n",
            "\n",
            "The authorization workflow will generate a code, which you should paste in the box below. \n",
            "Enter verification code: 4/1AX4XfWhI2Z84A7LVJW7WFkrFi8DUOBPL9aA1DsAkeDBOfD-ASuq1r34jeFM\n",
            "\n",
            "Successfully saved authorization token.\n"
          ]
        }
      ]
    },
    {
      "cell_type": "markdown",
      "metadata": {
        "id": "u6V2UYFlPAPj"
      },
      "source": [
        "## Getting started with Collections\n",
        "\n",
        "In the Earth Engine Data Catalog, datasets can be of different types:\n",
        "\n",
        "- *Features* which are geometric objects with a list of properties. For example, a watershed with some properties such as *name* and *area*, is an `ee.Feature`.\n",
        "- *Images* which are like features, but may include several bands. For example, the ground elevation given by the USGS [here](https://developers.google.com/earth-engine/datasets/catalog/USGS_SRTMGL1_003) is an `ee.Image`.\n",
        "- *Collections* which are groups of features or images. For example, the [Global Administrative Unit Layers](https://developers.google.com/earth-engine/datasets/catalog/FAO_GAUL_2015_level0) giving administrative boundaries is a `ee.FeatureCollection` and the [MODIS Land Surface Temperature](https://developers.google.com/earth-engine/datasets/catalog/MODIS_006_MOD11A1) dataset is an `ee.ImageCollection`.\n",
        "\n",
        "If you want to know more about different data models, you may want to visit the [Earth Engine User Guide](https://developers.google.com/earth-engine).\n",
        "\n",
        "In the following sections, we work with the MODIS [land cover (LC)](https://developers.google.com/earth-engine/datasets/catalog/MODIS_006_MCD12Q1), the MODIS [land surface temperature (LST)](https://developers.google.com/earth-engine/datasets/catalog/MODIS_006_MOD11A1) and with the USGS [ground elevation (ELV)](https://developers.google.com/earth-engine/datasets/catalog/USGS_SRTMGL1_003), which are `ee.ImageCollections`. The dataset descriptions provide us with all the information we need to import and manipulate these datasets: the availability, the provider, the Earth Engine Snippet, and the available bands associated with images in the collection.\n",
        "\n",
        "Now, to import the LC, LST and ELV collections, we can copy and paste the Earth Engine Snippets:"
      ]
    },
    {
      "cell_type": "code",
      "metadata": {
        "id": "i6WDkfesPYeV"
      },
      "source": [
        "# Import the MODIS land cover collection.\n",
        "lc = ee.ImageCollection('MODIS/006/MCD12Q1')\n",
        "\n",
        "# Import the MODIS land surface temperature collection.\n",
        "lst = ee.ImageCollection('MODIS/006/MOD11A1')\n",
        "\n",
        "# Import the USGS ground elevation image.\n",
        "elv = ee.Image('USGS/SRTMGL1_003')"
      ],
      "execution_count": 16,
      "outputs": []
    },
    {
      "cell_type": "markdown",
      "metadata": {
        "id": "GMMR8rvDPd9r"
      },
      "source": [
        "All of these images come in a different resolution, frequency, and possibly projection, ranging from daily images in a 1 km resolution for LST (hence an `ee.ImageCollection` — a collection of several `ee.Images`) to a single image representing data for the year 2000 in a 30 m resolution for the ELV. While we need to have an eye on the frequency, GEE takes care of resolution and projection by resampling and reprojecting all data we are going to work with to a common projection (learn more about [projections in Earth Engine](https://developers.google.com/earth-engine/guides/projections)). We can define the resolution (called scale in GEE) whenever necessary and of course have the option to force no reprojection.\n",
        "\n",
        "As you can see in the description of the datasets, they include several sets of information stored in several bands. For example, these bands are associated with the LST collection:\n",
        "\n",
        "- _LST\\_Day\\_1km_: Daytime Land Surface Temperature\n",
        "- _Day\\_view\\_time_: Local time of day observation\n",
        "- _LST\\_Night\\_1km_: Nighttime Land Surface Temperature\n",
        "- etc.\n",
        "\n",
        "The description page of the collection tells us that the name of the band associated with the daytime LST is _LST\\_Day\\_1km_ which is in units of Kelvin. In addition, values are ranging from 7,500 to 65,535 with a corrective scale of 0.02.\n",
        "\n",
        "Then, we have to filter the collection on the period of time we want. We can do that using the `filterDate()` method. We also need to select the bands we want to work with. Therefore, we decide to focus on daytime LST so we select the daytime band _LST\\_Day\\_1km_ and its associated quality indicator _QC\\_Day_ with the `select()` method."
      ]
    },
    {
      "cell_type": "code",
      "metadata": {
        "id": "jhoBd-aEPrD7"
      },
      "source": [
        "# Initial date of interest (inclusive).\n",
        "i_date = '2017-01-01'\n",
        "\n",
        "# Final date of interest (exclusive).\n",
        "f_date = '2020-01-01'\n",
        "\n",
        "# Selection of appropriate bands and dates for LST.\n",
        "lst = lst.select('LST_Day_1km', 'QC_Day').filterDate(i_date, f_date)"
      ],
      "execution_count": 18,
      "outputs": []
    },
    {
      "cell_type": "markdown",
      "metadata": {
        "id": "fIQrdLTxPvKT"
      },
      "source": [
        "Now, we can either upload existing shape files or define some points with longitude and latitude coordinates where we want to know more about LC, LST and ELV. For this example, let's use two point locations:\n",
        "\n",
        "- The first one in the urban area of Lyon, France\n",
        "- The second one, 30 kilometers away from the city center, in a rural area"
      ]
    },
    {
      "cell_type": "code",
      "metadata": {
        "id": "WyNni8FsP0Ss"
      },
      "source": [
        "# Define the urban location of interest as a point near Lyon, France.\n",
        "u_lon = 4.8148\n",
        "u_lat = 45.7758\n",
        "u_poi = ee.Geometry.Point(u_lon, u_lat)\n",
        "\n",
        "# Define the rural location of interest as a point away from the city.\n",
        "r_lon = 5.175964\n",
        "r_lat = 45.574064\n",
        "r_poi = ee.Geometry.Point(r_lon, r_lat)"
      ],
      "execution_count": 19,
      "outputs": []
    },
    {
      "cell_type": "markdown",
      "metadata": {
        "id": "5_b5z0ieQAO0"
      },
      "source": [
        "We can easily get information about our region/point of interest using the following methods (to get more information about available methods and required arguments, please visit the API documentation [here](https://developers.google.com/earth-engine/api_docs)):\n",
        "\n",
        "- `sample()`: samples the image (does NOT work for an `ee.ImageCollection` — we'll talk about sampling an `ee.ImageCollection` later) according to a given geometry and a scale (in meters) of the projection to sample in. It returns an `ee.FeatureCollection`.\n",
        "- `first()`: returns the first entry of the collection,\n",
        "- `get()`: to select the appropriate band of your Image/Collection,\n",
        "- `getInfo()`: evaluates server-side expression graph and transfers result to client.\n",
        "\n",
        "Then we can query the ground elevation and LST around our point of interest using the following commands. Please be careful when evaluating LST. According to the [dataset description](https://developers.google.com/earth-engine/datasets/catalog/MODIS_006_MOD11A1), the value should be corrected by a factor of 0.02 to get units of Kelvin (do not forget the conversion). To get the mean multi-annual daytime LST, we use the `mean()` collection reduction method on the LST `ee.ImageCollection`. (The following run might take about 15-20 seconds)"
      ]
    },
    {
      "cell_type": "code",
      "metadata": {
        "id": "qwNoBjtyP3P8",
        "outputId": "cb01fa8b-3d2f-40ff-fe55-bb3ff970ab9b",
        "colab": {
          "base_uri": "https://localhost:8080/"
        }
      },
      "source": [
        "scale = 1000  # scale in meters\n",
        "\n",
        "# Print the elevation near Lyon, France.\n",
        "elv_urban_point = elv.sample(u_poi, scale).first().get('elevation').getInfo()\n",
        "print('Ground elevation at urban point:', elv_urban_point, 'm')\n",
        "\n",
        "# Calculate and print the mean value of the LST collection at the point.\n",
        "lst_urban_point = lst.mean().sample(u_poi, scale).first().get('LST_Day_1km').getInfo()\n",
        "print('Average daytime LST at urban point:', round(lst_urban_point*0.02 -273.15, 2), '°C')\n",
        "\n",
        "# Print the land cover type at the point.\n",
        "lc_urban_point = lc.first().sample(u_poi, scale).first().get('LC_Type1').getInfo()\n",
        "print('Land cover value at urban point is:', lc_urban_point)"
      ],
      "execution_count": 20,
      "outputs": [
        {
          "output_type": "stream",
          "name": "stdout",
          "text": [
            "Ground elevation at urban point: 196 m\n",
            "Average daytime LST at urban point: 23.12 °C\n",
            "Land cover value at urban point is: 13\n"
          ]
        }
      ]
    },
    {
      "cell_type": "markdown",
      "metadata": {
        "id": "uPiiAMxJQLDc"
      },
      "source": [
        "Going back to the band description of the `lc` dataset, we see that a `lc` value of \"13\" corresponds to an urban land. You can run the above cells with the rural point coordinates if you want to notice a difference."
      ]
    },
    {
      "cell_type": "markdown",
      "metadata": {
        "id": "oCLX5Nu_QWKE"
      },
      "source": [
        "## Get a time series\n",
        "\n",
        "Now that you see we can get geospatial information about a place of interest pretty easily, you may want to inspect a time series, probably make some charts and calculate statistics about a place. Hence, we import the data at the given locations using the `getRegion()` method."
      ]
    },
    {
      "cell_type": "code",
      "metadata": {
        "id": "tl2aDJe7Qbr6",
        "outputId": "de2ff46f-8917-4c1d-b5e8-b73eeb39b707",
        "colab": {
          "base_uri": "https://localhost:8080/"
        }
      },
      "source": [
        "# Get the data for the pixel intersecting the point in urban area.\n",
        "lst_u_poi = lst.getRegion(u_poi, scale).getInfo()\n",
        "\n",
        "# Get the data for the pixel intersecting the point in rural area.\n",
        "lst_r_poi = lst.getRegion(r_poi, scale).getInfo()\n",
        "\n",
        "# Preview the result.\n",
        "lst_u_poi[:5]"
      ],
      "execution_count": 21,
      "outputs": [
        {
          "output_type": "execute_result",
          "data": {
            "text/plain": [
              "[['id', 'longitude', 'latitude', 'time', 'LST_Day_1km', 'QC_Day'],\n",
              " ['2017_01_01', 4.810478346460038, 45.77365530231022, 1483228800000, None, 2],\n",
              " ['2017_01_02', 4.810478346460038, 45.77365530231022, 1483315200000, None, 2],\n",
              " ['2017_01_03', 4.810478346460038, 45.77365530231022, 1483401600000, None, 2],\n",
              " ['2017_01_04',\n",
              "  4.810478346460038,\n",
              "  45.77365530231022,\n",
              "  1483488000000,\n",
              "  13808,\n",
              "  17]]"
            ]
          },
          "metadata": {},
          "execution_count": 21
        }
      ]
    },
    {
      "cell_type": "markdown",
      "metadata": {
        "id": "MCM4L83rQjfE"
      },
      "source": [
        "Printing the first 5 lines of the result shows that we now have arrays full of data. As we can see several `None` values appear in the _LST\\_Day\\_1km_ column. The associated quality indicator _QC\\_Day_ indicates a value of _2_ meaning that the LST is not calculated because of cloud effects.\n",
        "\n",
        "We now define a function to transform this array into a pandas Dataframe which is much more convenient to manipulate."
      ]
    },
    {
      "cell_type": "code",
      "metadata": {
        "id": "eQdthk0m5vJ9"
      },
      "source": [
        "import pandas as pd\n",
        "\n",
        "def ee_array_to_df(arr, list_of_bands):\n",
        "    \"\"\"Transforms client-side ee.Image.getRegion array to pandas.DataFrame.\"\"\"\n",
        "    df = pd.DataFrame(arr)\n",
        "\n",
        "    # Rearrange the header.\n",
        "    headers = df.iloc[0]\n",
        "    df = pd.DataFrame(df.values[1:], columns=headers)\n",
        "\n",
        "    # Remove rows without data inside.\n",
        "    df = df[['longitude', 'latitude', 'time', *list_of_bands]].dropna()\n",
        "\n",
        "    # Convert the data to numeric values.\n",
        "    for band in list_of_bands:\n",
        "        df[band] = pd.to_numeric(df[band], errors='coerce')\n",
        "\n",
        "    # Convert the time field into a datetime.\n",
        "    df['datetime'] = pd.to_datetime(df['time'], unit='ms')\n",
        "\n",
        "    # Keep the columns of interest.\n",
        "    df = df[['time','datetime',  *list_of_bands]]\n",
        "\n",
        "    return df"
      ],
      "execution_count": 22,
      "outputs": []
    },
    {
      "cell_type": "markdown",
      "metadata": {
        "id": "-bqU_iyJQqi1"
      },
      "source": [
        "We apply this function to get the two time series we want (and print one).\n"
      ]
    },
    {
      "cell_type": "code",
      "metadata": {
        "id": "0-HSQbMDQrdV",
        "outputId": "34443d8c-a52f-4e9a-c9b2-a79efc92c462",
        "colab": {
          "base_uri": "https://localhost:8080/",
          "height": 206
        }
      },
      "source": [
        "lst_df_urban = ee_array_to_df(lst_u_poi,['LST_Day_1km'])\n",
        "\n",
        "def t_modis_to_celsius(t_modis):\n",
        "    \"\"\"Converts MODIS LST units to degrees Celsius.\"\"\"\n",
        "    t_celsius =  0.02*t_modis - 273.15\n",
        "    return t_celsius\n",
        "\n",
        "# Apply the function to get temperature in celsius.\n",
        "lst_df_urban['LST_Day_1km'] = lst_df_urban['LST_Day_1km'].apply(t_modis_to_celsius)\n",
        "\n",
        "# Do the same for the rural point.\n",
        "lst_df_rural = ee_array_to_df(lst_r_poi,['LST_Day_1km'])\n",
        "lst_df_rural['LST_Day_1km'] = lst_df_rural['LST_Day_1km'].apply(t_modis_to_celsius)\n",
        "\n",
        "lst_df_urban.head()"
      ],
      "execution_count": 23,
      "outputs": [
        {
          "output_type": "execute_result",
          "data": {
            "text/html": [
              "\n",
              "  <div id=\"df-576acd69-4b69-4400-a56d-913b9a08ee73\">\n",
              "    <div class=\"colab-df-container\">\n",
              "      <div>\n",
              "<style scoped>\n",
              "    .dataframe tbody tr th:only-of-type {\n",
              "        vertical-align: middle;\n",
              "    }\n",
              "\n",
              "    .dataframe tbody tr th {\n",
              "        vertical-align: top;\n",
              "    }\n",
              "\n",
              "    .dataframe thead th {\n",
              "        text-align: right;\n",
              "    }\n",
              "</style>\n",
              "<table border=\"1\" class=\"dataframe\">\n",
              "  <thead>\n",
              "    <tr style=\"text-align: right;\">\n",
              "      <th></th>\n",
              "      <th>time</th>\n",
              "      <th>datetime</th>\n",
              "      <th>LST_Day_1km</th>\n",
              "    </tr>\n",
              "  </thead>\n",
              "  <tbody>\n",
              "    <tr>\n",
              "      <th>3</th>\n",
              "      <td>1483488000000</td>\n",
              "      <td>2017-01-04</td>\n",
              "      <td>3.01</td>\n",
              "    </tr>\n",
              "    <tr>\n",
              "      <th>4</th>\n",
              "      <td>1483574400000</td>\n",
              "      <td>2017-01-05</td>\n",
              "      <td>2.39</td>\n",
              "    </tr>\n",
              "    <tr>\n",
              "      <th>5</th>\n",
              "      <td>1483660800000</td>\n",
              "      <td>2017-01-06</td>\n",
              "      <td>0.89</td>\n",
              "    </tr>\n",
              "    <tr>\n",
              "      <th>6</th>\n",
              "      <td>1483747200000</td>\n",
              "      <td>2017-01-07</td>\n",
              "      <td>-0.11</td>\n",
              "    </tr>\n",
              "    <tr>\n",
              "      <th>15</th>\n",
              "      <td>1484524800000</td>\n",
              "      <td>2017-01-16</td>\n",
              "      <td>2.33</td>\n",
              "    </tr>\n",
              "  </tbody>\n",
              "</table>\n",
              "</div>\n",
              "      <button class=\"colab-df-convert\" onclick=\"convertToInteractive('df-576acd69-4b69-4400-a56d-913b9a08ee73')\"\n",
              "              title=\"Convert this dataframe to an interactive table.\"\n",
              "              style=\"display:none;\">\n",
              "        \n",
              "  <svg xmlns=\"http://www.w3.org/2000/svg\" height=\"24px\"viewBox=\"0 0 24 24\"\n",
              "       width=\"24px\">\n",
              "    <path d=\"M0 0h24v24H0V0z\" fill=\"none\"/>\n",
              "    <path d=\"M18.56 5.44l.94 2.06.94-2.06 2.06-.94-2.06-.94-.94-2.06-.94 2.06-2.06.94zm-11 1L8.5 8.5l.94-2.06 2.06-.94-2.06-.94L8.5 2.5l-.94 2.06-2.06.94zm10 10l.94 2.06.94-2.06 2.06-.94-2.06-.94-.94-2.06-.94 2.06-2.06.94z\"/><path d=\"M17.41 7.96l-1.37-1.37c-.4-.4-.92-.59-1.43-.59-.52 0-1.04.2-1.43.59L10.3 9.45l-7.72 7.72c-.78.78-.78 2.05 0 2.83L4 21.41c.39.39.9.59 1.41.59.51 0 1.02-.2 1.41-.59l7.78-7.78 2.81-2.81c.8-.78.8-2.07 0-2.86zM5.41 20L4 18.59l7.72-7.72 1.47 1.35L5.41 20z\"/>\n",
              "  </svg>\n",
              "      </button>\n",
              "      \n",
              "  <style>\n",
              "    .colab-df-container {\n",
              "      display:flex;\n",
              "      flex-wrap:wrap;\n",
              "      gap: 12px;\n",
              "    }\n",
              "\n",
              "    .colab-df-convert {\n",
              "      background-color: #E8F0FE;\n",
              "      border: none;\n",
              "      border-radius: 50%;\n",
              "      cursor: pointer;\n",
              "      display: none;\n",
              "      fill: #1967D2;\n",
              "      height: 32px;\n",
              "      padding: 0 0 0 0;\n",
              "      width: 32px;\n",
              "    }\n",
              "\n",
              "    .colab-df-convert:hover {\n",
              "      background-color: #E2EBFA;\n",
              "      box-shadow: 0px 1px 2px rgba(60, 64, 67, 0.3), 0px 1px 3px 1px rgba(60, 64, 67, 0.15);\n",
              "      fill: #174EA6;\n",
              "    }\n",
              "\n",
              "    [theme=dark] .colab-df-convert {\n",
              "      background-color: #3B4455;\n",
              "      fill: #D2E3FC;\n",
              "    }\n",
              "\n",
              "    [theme=dark] .colab-df-convert:hover {\n",
              "      background-color: #434B5C;\n",
              "      box-shadow: 0px 1px 3px 1px rgba(0, 0, 0, 0.15);\n",
              "      filter: drop-shadow(0px 1px 2px rgba(0, 0, 0, 0.3));\n",
              "      fill: #FFFFFF;\n",
              "    }\n",
              "  </style>\n",
              "\n",
              "      <script>\n",
              "        const buttonEl =\n",
              "          document.querySelector('#df-576acd69-4b69-4400-a56d-913b9a08ee73 button.colab-df-convert');\n",
              "        buttonEl.style.display =\n",
              "          google.colab.kernel.accessAllowed ? 'block' : 'none';\n",
              "\n",
              "        async function convertToInteractive(key) {\n",
              "          const element = document.querySelector('#df-576acd69-4b69-4400-a56d-913b9a08ee73');\n",
              "          const dataTable =\n",
              "            await google.colab.kernel.invokeFunction('convertToInteractive',\n",
              "                                                     [key], {});\n",
              "          if (!dataTable) return;\n",
              "\n",
              "          const docLinkHtml = 'Like what you see? Visit the ' +\n",
              "            '<a target=\"_blank\" href=https://colab.research.google.com/notebooks/data_table.ipynb>data table notebook</a>'\n",
              "            + ' to learn more about interactive tables.';\n",
              "          element.innerHTML = '';\n",
              "          dataTable['output_type'] = 'display_data';\n",
              "          await google.colab.output.renderOutput(dataTable, element);\n",
              "          const docLink = document.createElement('div');\n",
              "          docLink.innerHTML = docLinkHtml;\n",
              "          element.appendChild(docLink);\n",
              "        }\n",
              "      </script>\n",
              "    </div>\n",
              "  </div>\n",
              "  "
            ],
            "text/plain": [
              "0            time   datetime  LST_Day_1km\n",
              "3   1483488000000 2017-01-04         3.01\n",
              "4   1483574400000 2017-01-05         2.39\n",
              "5   1483660800000 2017-01-06         0.89\n",
              "6   1483747200000 2017-01-07        -0.11\n",
              "15  1484524800000 2017-01-16         2.33"
            ]
          },
          "metadata": {},
          "execution_count": 23
        }
      ]
    },
    {
      "cell_type": "markdown",
      "metadata": {
        "id": "vcrTDkERQwg9"
      },
      "source": [
        "Now that we have our data in a good shape, we can easily make plots and compare the trends. As the area of Lyon, France experiences a semi-continental climate, we expect that LST has a seasonality influence and the sinusoidal trend described by [Stallman (1965)](https://doi.org/10.1029/JZ070i012p02821) reading as follow:\n",
        "\n",
        "$$\n",
        "LST(t) = LST_{0} + \\frac{\\Delta _{LST}}{2}sin(\\frac{2\\pi t}{\\tau} + \\phi)\n",
        "$$\n",
        "\n",
        "where:\n",
        "\n",
        "- $LST_{0}$ represents the mean annual LST,\n",
        "- $\\Delta _{LST}$ represents the amplitude between maximal and minimal LST,\n",
        "- $\\tau$ represents the period of oscillation of LST, and\n",
        "- $\\phi$ represents an offset needed to adjust the time when $LST(t) = LST_{0}$\n",
        "\n",
        "Consequently, on the top of the data scatter plot, we plot the fitting curve using the scipy library:"
      ]
    },
    {
      "cell_type": "code",
      "metadata": {
        "id": "G3APsp1JQz8l",
        "outputId": "02508ac3-6543-47ae-ce13-159a46e3a7fa",
        "colab": {
          "base_uri": "https://localhost:8080/",
          "height": 375
        }
      },
      "source": [
        "import matplotlib.pyplot as plt\n",
        "import numpy as np\n",
        "from scipy import optimize\n",
        "%matplotlib inline\n",
        "\n",
        "# Fitting curves.\n",
        "## First, extract x values (times) from the dfs.\n",
        "x_data_u = np.asanyarray(lst_df_urban['time'].apply(float))  # urban\n",
        "x_data_r = np.asanyarray(lst_df_rural['time'].apply(float))  # rural\n",
        "\n",
        "## Secondly, extract y values (LST) from the dfs.\n",
        "y_data_u = np.asanyarray(lst_df_urban['LST_Day_1km'].apply(float))  # urban\n",
        "y_data_r = np.asanyarray(lst_df_rural['LST_Day_1km'].apply(float))  # rural\n",
        "\n",
        "## Then, define the fitting function with parameters.\n",
        "def fit_func(t, lst0, delta_lst, tau, phi):\n",
        "    return lst0 + (delta_lst/2)*np.sin(2*np.pi*t/tau + phi)\n",
        "\n",
        "## Optimize the parameters using a good start p0.\n",
        "lst0 = 20\n",
        "delta_lst = 40\n",
        "tau = 365*24*3600*1000   # milliseconds in a year\n",
        "phi = 2*np.pi*4*30.5*3600*1000/tau  # offset regarding when we expect LST(t)=LST0\n",
        "\n",
        "params_u, params_covariance_u = optimize.curve_fit(\n",
        "    fit_func, x_data_u, y_data_u, p0=[lst0, delta_lst, tau, phi])\n",
        "params_r, params_covariance_r = optimize.curve_fit(\n",
        "    fit_func, x_data_r, y_data_r, p0=[lst0, delta_lst, tau, phi])\n",
        "\n",
        "# Subplots.\n",
        "fig, ax = plt.subplots(figsize=(14, 6))\n",
        "\n",
        "# Add scatter plots.\n",
        "ax.scatter(lst_df_urban['datetime'], lst_df_urban['LST_Day_1km'],\n",
        "           c='black', alpha=0.2, label='Urban (data)')\n",
        "ax.scatter(lst_df_rural['datetime'], lst_df_rural['LST_Day_1km'],\n",
        "           c='green', alpha=0.35, label='Rural (data)')\n",
        "\n",
        "# Add fitting curves.\n",
        "ax.plot(lst_df_urban['datetime'],\n",
        "        fit_func(x_data_u, params_u[0], params_u[1], params_u[2], params_u[3]),\n",
        "        label='Urban (fitted)', color='black', lw=2.5)\n",
        "ax.plot(lst_df_rural['datetime'],\n",
        "        fit_func(x_data_r, params_r[0], params_r[1], params_r[2], params_r[3]),\n",
        "        label='Rural (fitted)', color='green', lw=2.5)\n",
        "\n",
        "# Add some parameters.\n",
        "ax.set_title('Daytime Land Surface Temperature Near Lyon', fontsize=16)\n",
        "ax.set_xlabel('Date', fontsize=14)\n",
        "ax.set_ylabel('Temperature [C]', fontsize=14)\n",
        "ax.set_ylim(-0, 40)\n",
        "ax.grid(lw=0.2)\n",
        "ax.legend(fontsize=14, loc='lower right')\n",
        "\n",
        "plt.show()"
      ],
      "execution_count": 24,
      "outputs": [
        {
          "output_type": "display_data",
          "data": {
            "image/png": "[encoded data removed]",
            "text/plain": [
              "<Figure size 1008x432 with 1 Axes>"
            ]
          },
          "metadata": {
            "needs_background": "light"
          }
        }
      ]
    },
    {
      "cell_type": "markdown",
      "metadata": {
        "id": "83Fo8CQMRQFX"
      },
      "source": [
        "## Static mapping of land surface temperature and ground elevation"
      ]
    },
    {
      "cell_type": "markdown",
      "metadata": {
        "id": "26WGEXdKGnDO"
      },
      "source": [
        "### Get a static map\n",
        "\n",
        "Now, we want to get static maps of land surface temperature and ground elevation around a region of interest. We define this region of interest using a buffer zone of 1000 km around Lyon, France."
      ]
    },
    {
      "cell_type": "code",
      "metadata": {
        "id": "DyYbq27DRpF3"
      },
      "source": [
        "# Define a region of interest with a buffer zone of 1000 km around Lyon.\n",
        "roi = u_poi.buffer(1e6)"
      ],
      "execution_count": 25,
      "outputs": []
    },
    {
      "cell_type": "markdown",
      "metadata": {
        "id": "5pLydjJzRw3m"
      },
      "source": [
        "Also, we have to convert the LST `ee.ImageCollection` into an `ee.Image`, for example by taking the mean value of each pixel over the period of interest. And we convert the value of pixels into Celsius:"
      ]
    },
    {
      "cell_type": "code",
      "metadata": {
        "id": "zl7ueytoRxx-"
      },
      "source": [
        "# Reduce the LST collection by mean.\n",
        "lst_img = lst.mean()\n",
        "\n",
        "# Adjust for scale factor.\n",
        "lst_img = lst_img.select('LST_Day_1km').multiply(0.02)\n",
        "\n",
        "# Convert Kelvin to Celsius.\n",
        "lst_img = lst_img.select('LST_Day_1km').add(-273.15)"
      ],
      "execution_count": 26,
      "outputs": []
    },
    {
      "cell_type": "markdown",
      "metadata": {
        "id": "HH5517P-R5E-"
      },
      "source": [
        "Then, we use the `getThumbUrl()` method to get a URL and we can use the IPython library to display the mean daytime LST map for the region of interest. Blue represents the coldest areas (< 10°C) and red represents the warmest areas (> 30°C) (note that it may take a moment for the image to load after the cell completes execution)."
      ]
    },
    {
      "cell_type": "code",
      "metadata": {
        "id": "vdzURyDxYdRM",
        "outputId": "6c1ecffb-2087-4f99-e286-1eb1d5746d87",
        "colab": {
          "base_uri": "https://localhost:8080/",
          "height": 449
        }
      },
      "source": [
        "from IPython.display import Image\n",
        "\n",
        "# Create a URL to the styled image for a region around France.\n",
        "url = lst_img.getThumbUrl({\n",
        "    'min': 10, 'max': 30, 'dimensions': 512, 'region': roi,\n",
        "    'palette': ['blue', 'yellow', 'orange', 'red']})\n",
        "print(url)\n",
        "\n",
        "# Display the thumbnail land surface temperature in France.\n",
        "print('\\nPlease wait while the thumbnail loads, it may take a moment...')\n",
        "Image(url=url)"
      ],
      "execution_count": 27,
      "outputs": [
        {
          "output_type": "stream",
          "name": "stdout",
          "text": [
            "https://earthengine.googleapis.com/v1alpha/projects/earthengine-legacy/thumbnails/42f1da13c9c3434033cff32f4d60a847-3d591842b4632a4620587b12d9eb1eed:getPixels\n",
            "\n",
            "Please wait while the thumbnail loads, it may take a moment...\n"
          ]
        },
        {
          "output_type": "execute_result",
          "data": {
            "text/html": [
              "<img src=\"https://earthengine.googleapis.com/v1alpha/projects/earthengine-legacy/thumbnails/42f1da13c9c3434033cff32f4d60a847-3d591842b4632a4620587b12d9eb1eed:getPixels\"/>"
            ],
            "text/plain": [
              "<IPython.core.display.Image object>"
            ]
          },
          "metadata": {},
          "execution_count": 27
        }
      ]
    },
    {
      "cell_type": "markdown",
      "metadata": {
        "id": "WavcJTkDSAl1"
      },
      "source": [
        "We do the same for ground elevation:"
      ]
    },
    {
      "cell_type": "code",
      "metadata": {
        "id": "m9KQojW-b4au",
        "outputId": "29418869-7653-4df1-90c3-d9147246e3e0",
        "colab": {
          "base_uri": "https://localhost:8080/",
          "height": 377
        }
      },
      "source": [
        "# Make pixels with elevation below sea level transparent.\n",
        "elv_img = elv.updateMask(elv.gt(0))\n",
        "\n",
        "# Display the thumbnail of styled elevation in France.\n",
        "Image(url=elv_img.getThumbURL({\n",
        "    'min': 0, 'max': 2000, 'dimensions': 512, 'region': roi,\n",
        "    'palette': ['006633', 'E5FFCC', '662A00', 'D8D8D8', 'F5F5F5']}))\n"
      ],
      "execution_count": 31,
      "outputs": [
        {
          "output_type": "execute_result",
          "data": {
            "text/html": [
              "<img src=\"https://earthengine.googleapis.com/v1alpha/projects/earthengine-legacy/thumbnails/e2e227fa24686eca65b8ad2bb9abfbc9-ec92bbcb7c70618422a7ab10349cd0c1:getPixels\"/>"
            ],
            "text/plain": [
              "<IPython.core.display.Image object>"
            ]
          },
          "metadata": {},
          "execution_count": 31
        }
      ]
    },
    {
      "cell_type": "markdown",
      "metadata": {
        "id": "zeJCOL23SE4-"
      },
      "source": [
        "Of course you may want to have a closer look around a specific part of the map. So let's define another region (a buffer zone around Lyon), adjust the min/max scale and display:"
      ]
    },
    {
      "cell_type": "code",
      "metadata": {
        "id": "0cYxt2mVSHil",
        "outputId": "18daf15f-01b0-41c9-8715-c8298bcc0808",
        "colab": {
          "base_uri": "https://localhost:8080/",
          "height": 381
        }
      },
      "source": [
        "# Create a buffer zone of 10 km around Lyon.\n",
        "lyon = u_poi.buffer(10000)  # meters\n",
        "\n",
        "url = elv_img.getThumbUrl({\n",
        "    'min': 150, 'max': 350, 'region': lyon, 'dimensions': 512,\n",
        "    'palette': ['006633', 'E5FFCC', '662A00', 'D8D8D8', 'F5F5F5']})\n",
        "Image(url=url)"
      ],
      "execution_count": 32,
      "outputs": [
        {
          "output_type": "execute_result",
          "data": {
            "text/html": [
              "<img src=\"https://earthengine.googleapis.com/v1alpha/projects/earthengine-legacy/thumbnails/e21e6f1589fc98cc2973a5b57d4bb96a-886dcbdd2a0ecdb601462648d47121cd:getPixels\"/>"
            ],
            "text/plain": [
              "<IPython.core.display.Image object>"
            ]
          },
          "metadata": {},
          "execution_count": 32
        }
      ]
    },
    {
      "cell_type": "markdown",
      "metadata": {
        "id": "x7HQlF2FSPFl"
      },
      "source": [
        "### Clip an image by a region of interest\n",
        "\n",
        "In case you want to display an image over a given region (and not outside), we can clip our dataset using the region as an argument of the `clip()` method. Let's say that we want to display the ground elevation in France. We can get the geometry of the administrative boundary of France with the [FAO feature collection](https://developers.google.com/earth-engine/datasets/catalog/FAO_GAUL_2015_level0) and do the same as before:"
      ]
    },
    {
      "cell_type": "code",
      "metadata": {
        "id": "XyiRmMt8SVot",
        "outputId": "2774a434-3dd6-4dc1-ee24-a4c75294eb70",
        "colab": {
          "base_uri": "https://localhost:8080/",
          "height": 377
        }
      },
      "source": [
        "# Get a feature collection of administrative boundaries.\n",
        "countries = ee.FeatureCollection('FAO/GAUL/2015/level0').select('ADM0_NAME')\n",
        "\n",
        "# Filter the feature collection to subset France.\n",
        "france = countries.filter(ee.Filter.eq('ADM0_NAME', 'France'))\n",
        "\n",
        "# Clip the image by France.\n",
        "elv_fr = elv_img.clip(france)\n",
        "\n",
        "# Create the URL associated with the styled image data.\n",
        "url = elv_fr.getThumbUrl({\n",
        "    'min': 0, 'max': 2500, 'region': roi, 'dimensions': 512,\n",
        "    'palette': ['006633', 'E5FFCC', '662A00', 'D8D8D8', 'F5F5F5']})\n",
        "\n",
        "# Display a thumbnail of elevation in France.\n",
        "Image(url=url)"
      ],
      "execution_count": 34,
      "outputs": [
        {
          "output_type": "execute_result",
          "data": {
            "text/html": [
              "<img src=\"https://earthengine.googleapis.com/v1alpha/projects/earthengine-legacy/thumbnails/271c5196850a9b7916e7a8f60f56bee9-2b3f140ea22788622480dc04ade45fee:getPixels\"/>"
            ],
            "text/plain": [
              "<IPython.core.display.Image object>"
            ]
          },
          "metadata": {},
          "execution_count": 34
        }
      ]
    },
    {
      "cell_type": "markdown",
      "metadata": {
        "id": "nPE71g0rSanG"
      },
      "source": [
        "## Export a GeoTIFF file\n",
        "\n",
        "After manipulating Earth Engine datasets, you may need to export a resulting `ee.Image` to a GeoTIFF. For example, to use it as an input of a numerical model outside of Earth Engine, or to overlap it with personal georeferencend files in your favorite GIS. There are multiple ways to do that (see the [Exporting](https://developers.google.com/earth-engine/guides/exporting#exporting-images) section of the Developer Guide). Here we explore two options:\n",
        "\n",
        "- Save the `ee.Image` you want in Google Drive\n",
        "- Directly download the image."
      ]
    },
    {
      "cell_type": "markdown",
      "metadata": {
        "id": "M18DAo-sHFUd"
      },
      "source": [
        "### Save a GeoTIFF file in your Google Drive\n",
        "\n",
        "To export the `ee.Image` to Google Drive, we have to define a task and start it. We have to specify the size of pixels (here 30 m), the projection (here EPSG:4326), the file format (here GeoTIFF), the region of interest (here the area of Lyon defined before), and the file will be exported to the Google Drive directory head and named according to the `fileNamePrefix` we choose."
      ]
    },
    {
      "cell_type": "code",
      "metadata": {
        "id": "pxJSKalPT2xA"
      },
      "source": [
        "task = ee.batch.Export.image.toDrive(image=elv_img,\n",
        "                                     description='elevation_near_lyon_france',\n",
        "                                     scale=30,\n",
        "                                     region=lyon,\n",
        "                                     fileNamePrefix='my_export_lyon',\n",
        "                                     crs='EPSG:4326',\n",
        "                                     fileFormat='GeoTIFF')\n",
        "task.start()"
      ],
      "execution_count": 35,
      "outputs": []
    },
    {
      "cell_type": "markdown",
      "metadata": {
        "id": "1dq_B43MT8d_"
      },
      "source": [
        "Then we can check the status of our task (note: the task will also be registered in the JavaScript [Code Editor's](https://code.earthengine.google.com/) list of tasks) using the `status()` method. Depending on the size of the request, we might run this cell several times until the task *state* becomes 'COMPLETED' (in order, the state of the export task is 'READY', then 'RUNNING', and finally 'COMPLETED')."
      ]
    },
    {
      "cell_type": "code",
      "metadata": {
        "id": "FHMfGQPNT9Ue"
      },
      "source": [
        "task.status()"
      ],
      "execution_count": null,
      "outputs": []
    },
    {
      "cell_type": "markdown",
      "metadata": {
        "id": "u3Vqk5nQUBs2"
      },
      "source": [
        "Now you can check your google drive to find your file.\n",
        "\n",
        "### Get a link to download your GeoTIFF\n",
        "\n",
        "Similarly, we can use the `getDownloadUrl()` method and click on the provided link. Please note the following points:\n",
        "\n",
        "- For large or long-running exports, using the `ee.batch.Export` module (previous section) is a better method.\n",
        "- The token to generate the Earth Engine layer tiles expires after about a day.\n"
      ]
    },
    {
      "cell_type": "code",
      "metadata": {
        "id": "gzHi1xooUJ1A"
      },
      "source": [
        "link = lst_img.getDownloadURL({\n",
        "    'scale': 30,\n",
        "    'crs': 'EPSG:4326',\n",
        "    'fileFormat': 'GeoTIFF',\n",
        "    'region': lyon})\n",
        "print(link)"
      ],
      "execution_count": null,
      "outputs": []
    },
    {
      "cell_type": "markdown",
      "metadata": {
        "id": "JAn5ihMPUPrQ"
      },
      "source": [
        "## Interactive mapping using folium\n",
        "\n",
        "To display these GEE datasets on an interactive map, let me introduce you to [folium](https://python-visualization.github.io/folium/). Folium is a python library based on [leaflet.js](https://leafletjs.com/) (open-source JavaScript library for mobile-friendly interactive maps) that you can use to make interactive maps. Folium supports WMS, GeoJSON layers, vector layers, and tile layers which make it very convenient and straightforward to visualize the data we manipulate with python. We create our first interactive map with one line of code, specifying the location where we want to center the map, the zoom level, and the main dimensions of the map:"
      ]
    },
    {
      "cell_type": "code",
      "metadata": {
        "id": "zawegH1MUdlX"
      },
      "source": [
        "import folium\n",
        "\n",
        "# Define the center of our map.\n",
        "lat, lon = 45.77, 4.855\n",
        "\n",
        "my_map = folium.Map(location=[lat, lon], zoom_start=10)\n",
        "my_map"
      ],
      "execution_count": null,
      "outputs": []
    },
    {
      "cell_type": "markdown",
      "metadata": {
        "id": "lQn6Gig1Uh2A"
      },
      "source": [
        "On top of this map, we now want to add the GEE layers we studied before: land cover (LC), land surface temperature (LST) and ground elevation model (ELV). For each GEE dataset, the process consists of adding a new tile layer to our map with specified visualization parameters. Let's define a new method for handing Earth Engine tiles and using it to display an elevation model to a Leaflet map."
      ]
    },
    {
      "cell_type": "code",
      "metadata": {
        "id": "89EeGz_3lVEn"
      },
      "source": [
        "def add_ee_layer(self, ee_image_object, vis_params, name):\n",
        "    \"\"\"Adds a method for displaying Earth Engine image tiles to folium map.\"\"\"\n",
        "    map_id_dict = ee.Image(ee_image_object).getMapId(vis_params)\n",
        "    folium.raster_layers.TileLayer(\n",
        "        tiles=map_id_dict['tile_fetcher'].url_format,\n",
        "        attr='Map Data &copy; <a href=\"https://earthengine.google.com/\">Google Earth Engine</a>',\n",
        "        name=name,\n",
        "        overlay=True,\n",
        "        control=True\n",
        "    ).add_to(self)\n",
        "\n",
        "# Add Earth Engine drawing method to folium.\n",
        "folium.Map.add_ee_layer = add_ee_layer"
      ],
      "execution_count": null,
      "outputs": []
    },
    {
      "cell_type": "markdown",
      "metadata": {
        "id": "t-OsgK3Gll-3"
      },
      "source": [
        "We want to respect the common LC classes defined in the table of the previous section (hexadecimal codes are given for each class: water bodies are blue, urban areas are grey, forests are green, etc.). Then we define visualization parameters associated with LC and apply the method we defined earlier:"
      ]
    },
    {
      "cell_type": "code",
      "metadata": {
        "id": "zNIAkdfqUjF3"
      },
      "source": [
        "# Select a specific band and dates for land cover.\n",
        "lc_img = lc.select('LC_Type1').filterDate(i_date).first()\n",
        "\n",
        "# Set visualization parameters for land cover.\n",
        "lc_vis_params = {\n",
        "    'min': 1,'max': 17,\n",
        "    'palette': ['05450a','086a10', '54a708', '78d203', '009900', 'c6b044',\n",
        "                'dcd159', 'dade48', 'fbff13', 'b6ff05', '27ff87', 'c24f44',\n",
        "                'a5a5a5', 'ff6d4c', '69fff8', 'f9ffa4', '1c0dff']\n",
        "}\n",
        "\n",
        "# Create a map.\n",
        "lat, lon = 45.77, 4.855\n",
        "my_map = folium.Map(location=[lat, lon], zoom_start=7)\n",
        "\n",
        "# Add the land cover to the map object.\n",
        "my_map.add_ee_layer(lc_img, lc_vis_params, 'Land Cover')\n",
        "\n",
        "# Add a layer control panel to the map.\n",
        "my_map.add_child(folium.LayerControl())\n",
        "\n",
        "# Display the map.\n",
        "display(my_map)"
      ],
      "execution_count": null,
      "outputs": []
    },
    {
      "cell_type": "markdown",
      "metadata": {
        "id": "fuSdKLP0ntSH"
      },
      "source": [
        "Finally, the map can be saved in *HTML* format using the folium method `save()` specifying the file name as an argument of this method. If you run this cell using Google Colab, your *HTML* file is saved in the *content* folder of your Colab environment. If you run this cell locally, the file is saved inside your current working directory. Then, you will be able to open your *HTML* file with your favorite navigator.\n"
      ]
    },
    {
      "cell_type": "code",
      "metadata": {
        "id": "rtL7fIuSUszw"
      },
      "source": [
        "my_map.save('my_lc_interactive_map.html')"
      ],
      "execution_count": null,
      "outputs": []
    },
    {
      "cell_type": "markdown",
      "metadata": {
        "id": "FNFWTpRXUw0Y"
      },
      "source": [
        "Of course we can add other datasets similarly, by defining some visualization parameters and by adding the appropriate tiles:"
      ]
    },
    {
      "cell_type": "code",
      "metadata": {
        "id": "_VURxXlQUxro"
      },
      "source": [
        "# Set visualization parameters for ground elevation.\n",
        "elv_vis_params = {\n",
        "    'min': 0, 'max': 4000,\n",
        "    'palette': ['006633', 'E5FFCC', '662A00', 'D8D8D8', 'F5F5F5']}\n",
        "\n",
        "# Set visualization parameters for land surface temperature.\n",
        "lst_vis_params = {\n",
        "    'min': 0, 'max': 40,\n",
        "    'palette': ['white', 'blue', 'green', 'yellow', 'orange', 'red']}\n",
        "\n",
        "# Arrange layers inside a list (elevation, LST and land cover).\n",
        "ee_tiles = [elv_img, lst_img, lc_img]\n",
        "\n",
        "# Arrange visualization parameters inside a list.\n",
        "ee_vis_params = [elv_vis_params, lst_vis_params, lc_vis_params]\n",
        "\n",
        "# Arrange layer names inside a list.\n",
        "ee_tiles_names = ['Elevation', 'Land Surface Temperature', 'Land Cover']\n",
        "\n",
        "# Create a new map.\n",
        "lat, lon = 45.77, 4.855\n",
        "my_map = folium.Map(location=[lat, lon], zoom_start=5)\n",
        "\n",
        "# Add layers to the map using a loop.\n",
        "for tile, vis_param, name in zip(ee_tiles, ee_vis_params, ee_tiles_names):\n",
        "    my_map.add_ee_layer(tile, vis_param, name)\n",
        "\n",
        "folium.LayerControl(collapsed = False).add_to(my_map)\n",
        "\n",
        "my_map"
      ],
      "execution_count": null,
      "outputs": []
    },
    {
      "cell_type": "markdown",
      "metadata": {
        "id": "PpFkh36BVLMh"
      },
      "source": [
        "## Documentation\n",
        "\n",
        "- The full documentation of the Google Earth Engine Python API is available [here](https://developers.google.com/earth-engine/api_docs).\n",
        "- The Google Earth Engine User Guide is available [here](https://developers.google.com/earth-engine).\n",
        "- Some tutorials are available [here](https://developers.google.com/earth-engine/tutorials).\n",
        "- An example based on the Google Earth Engine Javascript console dedicated to Land Surface Temperature estimation is provided in the open access supplementary material of [Benz et al., (2017)](https://iopscience.iop.org/article/10.1088/1748-9326/aa5fb0/meta). You can access the code [here](https://code.earthengine.google.com/4a1bc64dbc3351a1e364490758d4cf2d).\n",
        "\n",
        "## Acknowledgements\n",
        "\n",
        "Thanks to Susanne Benz and Justin Braaten for reviewing and helping write this tutorial."
      ]
    },
    {
      "cell_type": "code",
      "source": [
        "# See https://www.youtube.com/watch?v=AD1YtRqc5kA\n",
        "import ee\n",
        "import folium\n",
        "\n",
        "\n",
        "# Trigger the authentication flow.\n",
        "ee.Authenticate()\n",
        "\n",
        "# Initialize the library.\n",
        "ee.Initialize()\n",
        "\n",
        "countries = ee.FeatureCollection('USDOS/LSIB_SIMPLE/2017')\n",
        "Ethiopia = countries.filter(ee.Filter.eq('country_na', 'Ethiopia'))\n",
        "landsat = ee.ImageCollection(\n",
        "    'LANDSAT/LC08/C01/T1').filterDate('2016-01-01', '2017-01-01').filterBounds(Ethiopia)\n",
        "composite = ee.Algorithms.Landsat.simpleComposite(**{\n",
        "    'collection': landsat,\n",
        "    'asFloat': True\n",
        "})\n",
        "rgbVis = {'bands': ['B3', 'B4'], 'min': 0, 'max': 0.3}\n",
        "nirVis = {'bands': ['B5', 'B4'], 'min': 0, 'max': [0.5, 0.3]}\n",
        "\n",
        "\n",
        "def add_ee_layer(self, ee_image_object, vis_params, name):\n",
        "    map_id_dict = ee.Image(ee_image_object).getMapId(vis_params)\n",
        "    folium.raster_layers.TileLayer(\n",
        "        tiles=map_id_dict['tile_fetcher'].url_format,\n",
        "        attr='Map Data &copy:; <a href=\"https://earthengine.google.com/\">Google Earth Engine</a>',\n",
        "        name=name,\n",
        "        overlay=True,\n",
        "        control=True\n",
        "    ).add_to(self)\n",
        "\n",
        "\n",
        "folium.Map.add_ee_layer = add_ee_layer\n",
        "\n",
        "my_map = folium.Map(location=[9, 39], zoom_start=6)\n",
        "my_map.add_ee_layer(composite, rgbVis, 'RGB')\n",
        "my_map.add_ee_layer(composite, nirVis, 'false Color')\n",
        "\n",
        "my_map.add_child(folium.LayerControl())\n",
        "\n",
        "display(my_map)"
      ],
      "metadata": {
        "id": "qnYRo_7riW6M",
        "outputId": "23d03f41-bf98-4413-cb89-957a1892efbb",
        "colab": {
          "base_uri": "https://localhost:8080/",
          "height": 631
        }
      },
      "execution_count": 14,
      "outputs": [
        {
          "output_type": "stream",
          "name": "stdout",
          "text": [
            "To authorize access needed by Earth Engine, open the following URL in a web browser and follow the instructions. If the web browser does not start automatically, please manually browse the URL below.\n",
            "\n",
            "    https://accounts.google.com/o/oauth2/auth?client_id=517222506229-vsmmajv00ul0bs7p89v5m89qs8eb9359.apps.googleusercontent.com&scope=https%3A%2F%2Fwww.googleapis.com%2Fauth%2Fearthengine+https%3A%2F%2Fwww.googleapis.com%2Fauth%2Fdevstorage.full_control&redirect_uri=urn%3Aietf%3Awg%3Aoauth%3A2.0%3Aoob&response_type=code&code_challenge=OPTFnZSOlA16q6c85Dg4r1qqbzIt9Pu2fsEaM_MYDOI&code_challenge_method=S256\n",
            "\n",
            "The authorization workflow will generate a code, which you should paste in the box below. \n",
            "Enter verification code: 4/1AX4XfWiQplp4xBTajvp39vpsNYnNI2F_Hr0ycMCrjblDor3V0X5n5RCtVU4\n",
            "\n",
            "Successfully saved authorization token.\n"
          ]
        },
        {
          "output_type": "display_data",
          "data": {
            "text/html": [
              "<div style=\"width:100%;\"><div style=\"position:relative;width:100%;height:0;padding-bottom:60%;\"><span style=\"color:#565656\">Make this Notebook Trusted to load map: File -> Trust Notebook</span><iframe src=\"about:blank\" style=\"position:absolute;width:100%;height:100%;left:0;top:0;border:none !important;\" data-html=%3C%21DOCTYPE%20html%3E%0A%3Chead%3E%20%20%20%20%0A%20%20%20%20%3Cmeta%20http-equiv%3D%22content-type%22%20content%3D%22text/html%3B%20charset%3DUTF-8%22%20/%3E%0A%20%20%20%20%3Cscript%3EL_PREFER_CANVAS%3Dfalse%3B%20L_NO_TOUCH%3Dfalse%3B%20L_DISABLE_3D%3Dfalse%3B%3C/script%3E%0A%20%20%20%20%3Cscript%20src%3D%22https%3A//cdn.jsdelivr.net/npm/leaflet%401.4.0/dist/leaflet.js%22%3E%3C/script%3E%0A%20%20%20%20%3Cscript%20src%3D%22https%3A//code.jquery.com/jquery-1.12.4.min.js%22%3E%3C/script%3E%0A%20%20%20%20%3Cscript%20src%3D%22https%3A//maxcdn.bootstrapcdn.com/bootstrap/3.2.0/js/bootstrap.min.js%22%3E%3C/script%3E%0A%20%20%20%20%3Cscript%20src%3D%22https%3A//cdnjs.cloudflare.com/ajax/libs/Leaflet.awesome-markers/2.0.2/leaflet.awesome-markers.js%22%3E%3C/script%3E%0A%20%20%20%20%3Clink%20rel%3D%22stylesheet%22%20href%3D%22https%3A//cdn.jsdelivr.net/npm/leaflet%401.4.0/dist/leaflet.css%22/%3E%0A%20%20%20%20%3Clink%20rel%3D%22stylesheet%22%20href%3D%22https%3A//maxcdn.bootstrapcdn.com/bootstrap/3.2.0/css/bootstrap.min.css%22/%3E%0A%20%20%20%20%3Clink%20rel%3D%22stylesheet%22%20href%3D%22https%3A//maxcdn.bootstrapcdn.com/bootstrap/3.2.0/css/bootstrap-theme.min.css%22/%3E%0A%20%20%20%20%3Clink%20rel%3D%22stylesheet%22%20href%3D%22https%3A//maxcdn.bootstrapcdn.com/font-awesome/4.6.3/css/font-awesome.min.css%22/%3E%0A%20%20%20%20%3Clink%20rel%3D%22stylesheet%22%20href%3D%22https%3A//cdnjs.cloudflare.com/ajax/libs/Leaflet.awesome-markers/2.0.2/leaflet.awesome-markers.css%22/%3E%0A%20%20%20%20%3Clink%20rel%3D%22stylesheet%22%20href%3D%22https%3A//rawcdn.githack.com/python-visualization/folium/master/folium/templates/leaflet.awesome.rotate.css%22/%3E%0A%20%20%20%20%3Cstyle%3Ehtml%2C%20body%20%7Bwidth%3A%20100%25%3Bheight%3A%20100%25%3Bmargin%3A%200%3Bpadding%3A%200%3B%7D%3C/style%3E%0A%20%20%20%20%3Cstyle%3E%23map%20%7Bposition%3Aabsolute%3Btop%3A0%3Bbottom%3A0%3Bright%3A0%3Bleft%3A0%3B%7D%3C/style%3E%0A%20%20%20%20%0A%20%20%20%20%3Cmeta%20name%3D%22viewport%22%20content%3D%22width%3Ddevice-width%2C%0A%20%20%20%20%20%20%20%20initial-scale%3D1.0%2C%20maximum-scale%3D1.0%2C%20user-scalable%3Dno%22%20/%3E%0A%20%20%20%20%3Cstyle%3E%23map_92b1285e5d314aebbbfcc4296b35bc20%20%7B%0A%20%20%20%20%20%20%20%20position%3A%20relative%3B%0A%20%20%20%20%20%20%20%20width%3A%20100.0%25%3B%0A%20%20%20%20%20%20%20%20height%3A%20100.0%25%3B%0A%20%20%20%20%20%20%20%20left%3A%200.0%25%3B%0A%20%20%20%20%20%20%20%20top%3A%200.0%25%3B%0A%20%20%20%20%20%20%20%20%7D%0A%20%20%20%20%3C/style%3E%0A%3C/head%3E%0A%3Cbody%3E%20%20%20%20%0A%20%20%20%20%0A%20%20%20%20%3Cdiv%20class%3D%22folium-map%22%20id%3D%22map_92b1285e5d314aebbbfcc4296b35bc20%22%20%3E%3C/div%3E%0A%3C/body%3E%0A%3Cscript%3E%20%20%20%20%0A%20%20%20%20%0A%20%20%20%20%0A%20%20%20%20%20%20%20%20var%20bounds%20%3D%20null%3B%0A%20%20%20%20%0A%0A%20%20%20%20var%20map_92b1285e5d314aebbbfcc4296b35bc20%20%3D%20L.map%28%0A%20%20%20%20%20%20%20%20%27map_92b1285e5d314aebbbfcc4296b35bc20%27%2C%20%7B%0A%20%20%20%20%20%20%20%20center%3A%20%5B9%2C%2039%5D%2C%0A%20%20%20%20%20%20%20%20zoom%3A%206%2C%0A%20%20%20%20%20%20%20%20maxBounds%3A%20bounds%2C%0A%20%20%20%20%20%20%20%20layers%3A%20%5B%5D%2C%0A%20%20%20%20%20%20%20%20worldCopyJump%3A%20false%2C%0A%20%20%20%20%20%20%20%20crs%3A%20L.CRS.EPSG3857%2C%0A%20%20%20%20%20%20%20%20zoomControl%3A%20true%2C%0A%20%20%20%20%20%20%20%20%7D%29%3B%0A%0A%0A%20%20%20%20%0A%20%20%20%20var%20tile_layer_01f14ef115744b52a21985c754ed599b%20%3D%20L.tileLayer%28%0A%20%20%20%20%20%20%20%20%27https%3A//%7Bs%7D.tile.openstreetmap.org/%7Bz%7D/%7Bx%7D/%7By%7D.png%27%2C%0A%20%20%20%20%20%20%20%20%7B%0A%20%20%20%20%20%20%20%20%22attribution%22%3A%20null%2C%0A%20%20%20%20%20%20%20%20%22detectRetina%22%3A%20false%2C%0A%20%20%20%20%20%20%20%20%22maxNativeZoom%22%3A%2018%2C%0A%20%20%20%20%20%20%20%20%22maxZoom%22%3A%2018%2C%0A%20%20%20%20%20%20%20%20%22minZoom%22%3A%200%2C%0A%20%20%20%20%20%20%20%20%22noWrap%22%3A%20false%2C%0A%20%20%20%20%20%20%20%20%22opacity%22%3A%201%2C%0A%20%20%20%20%20%20%20%20%22subdomains%22%3A%20%22abc%22%2C%0A%20%20%20%20%20%20%20%20%22tms%22%3A%20false%0A%7D%29.addTo%28map_92b1285e5d314aebbbfcc4296b35bc20%29%3B%0A%20%20%20%20var%20tile_layer_4ddd26e462274d60bc77d586032fb2d0%20%3D%20L.tileLayer%28%0A%20%20%20%20%20%20%20%20%27https%3A//earthengine.googleapis.com/v1alpha/projects/earthengine-legacy/maps/826e5e5492501a9795c09cc4bc54beb7-dba415430ce720ac6720ffc9cd0c0e48/tiles/%7Bz%7D/%7Bx%7D/%7By%7D%27%2C%0A%20%20%20%20%20%20%20%20%7B%0A%20%20%20%20%20%20%20%20%22attribution%22%3A%20%22Map%20Data%20%26copy%3A%3B%20%3Ca%20href%3D%5C%22https%3A//earthengine.google.com/%5C%22%3EGoogle%20Earth%20Engine%3C/a%3E%22%2C%0A%20%20%20%20%20%20%20%20%22detectRetina%22%3A%20false%2C%0A%20%20%20%20%20%20%20%20%22maxNativeZoom%22%3A%2018%2C%0A%20%20%20%20%20%20%20%20%22maxZoom%22%3A%2018%2C%0A%20%20%20%20%20%20%20%20%22minZoom%22%3A%200%2C%0A%20%20%20%20%20%20%20%20%22noWrap%22%3A%20false%2C%0A%20%20%20%20%20%20%20%20%22opacity%22%3A%201%2C%0A%20%20%20%20%20%20%20%20%22subdomains%22%3A%20%22abc%22%2C%0A%20%20%20%20%20%20%20%20%22tms%22%3A%20false%0A%7D%29.addTo%28map_92b1285e5d314aebbbfcc4296b35bc20%29%3B%0A%20%20%20%20var%20tile_layer_195839f1940c4f68b91ae95aa001e575%20%3D%20L.tileLayer%28%0A%20%20%20%20%20%20%20%20%27https%3A//earthengine.googleapis.com/v1alpha/projects/earthengine-legacy/maps/629eebeec7d37b2ad980030e23e0e3e4-cb88eecf01ef3d50d4d436e4389acc9c/tiles/%7Bz%7D/%7Bx%7D/%7By%7D%27%2C%0A%20%20%20%20%20%20%20%20%7B%0A%20%20%20%20%20%20%20%20%22attribution%22%3A%20%22Map%20Data%20%26copy%3A%3B%20%3Ca%20href%3D%5C%22https%3A//earthengine.google.com/%5C%22%3EGoogle%20Earth%20Engine%3C/a%3E%22%2C%0A%20%20%20%20%20%20%20%20%22detectRetina%22%3A%20false%2C%0A%20%20%20%20%20%20%20%20%22maxNativeZoom%22%3A%2018%2C%0A%20%20%20%20%20%20%20%20%22maxZoom%22%3A%2018%2C%0A%20%20%20%20%20%20%20%20%22minZoom%22%3A%200%2C%0A%20%20%20%20%20%20%20%20%22noWrap%22%3A%20false%2C%0A%20%20%20%20%20%20%20%20%22opacity%22%3A%201%2C%0A%20%20%20%20%20%20%20%20%22subdomains%22%3A%20%22abc%22%2C%0A%20%20%20%20%20%20%20%20%22tms%22%3A%20false%0A%7D%29.addTo%28map_92b1285e5d314aebbbfcc4296b35bc20%29%3B%0A%20%20%20%20%0A%20%20%20%20%20%20%20%20%20%20%20%20var%20layer_control_7424d62efab04448b8c495ff902f4292%20%3D%20%7B%0A%20%20%20%20%20%20%20%20%20%20%20%20%20%20%20%20base_layers%20%3A%20%7B%20%22openstreetmap%22%20%3A%20tile_layer_01f14ef115744b52a21985c754ed599b%2C%20%7D%2C%0A%20%20%20%20%20%20%20%20%20%20%20%20%20%20%20%20overlays%20%3A%20%7B%20%22RGB%22%20%3A%20tile_layer_4ddd26e462274d60bc77d586032fb2d0%2C%22false%20Color%22%20%3A%20tile_layer_195839f1940c4f68b91ae95aa001e575%2C%20%7D%0A%20%20%20%20%20%20%20%20%20%20%20%20%20%20%20%20%7D%3B%0A%20%20%20%20%20%20%20%20%20%20%20%20L.control.layers%28%0A%20%20%20%20%20%20%20%20%20%20%20%20%20%20%20%20layer_control_7424d62efab04448b8c495ff902f4292.base_layers%2C%0A%20%20%20%20%20%20%20%20%20%20%20%20%20%20%20%20layer_control_7424d62efab04448b8c495ff902f4292.overlays%2C%0A%20%20%20%20%20%20%20%20%20%20%20%20%20%20%20%20%7Bposition%3A%20%27topright%27%2C%0A%20%20%20%20%20%20%20%20%20%20%20%20%20%20%20%20%20collapsed%3A%20true%2C%0A%20%20%20%20%20%20%20%20%20%20%20%20%20%20%20%20%20autoZIndex%3A%20true%0A%20%20%20%20%20%20%20%20%20%20%20%20%20%20%20%20%7D%29.addTo%28map_92b1285e5d314aebbbfcc4296b35bc20%29%3B%0A%20%20%20%20%20%20%20%20%20%20%20%20%0A%20%20%20%20%20%20%20%20%0A%3C/script%3E onload=\"this.contentDocument.open();this.contentDocument.write(    decodeURIComponent(this.getAttribute('data-html')));this.contentDocument.close();\" allowfullscreen webkitallowfullscreen mozallowfullscreen></iframe></div></div>"
            ],
            "text/plain": [
              "<folium.folium.Map at 0x7f92cea17f50>"
            ]
          },
          "metadata": {}
        }
      ]
    }
  ]
}